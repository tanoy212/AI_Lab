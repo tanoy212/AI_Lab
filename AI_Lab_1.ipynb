{
  "cells": [
    {
      "cell_type": "markdown",
      "metadata": {
        "id": "view-in-github",
        "colab_type": "text"
      },
      "source": [
        "<a href=\"https://colab.research.google.com/github/tanoy212/AI_Lab/blob/main/AI_Lab_1.ipynb\" target=\"_parent\"><img src=\"https://colab.research.google.com/assets/colab-badge.svg\" alt=\"Open In Colab\"/></a>"
      ]
    },
    {
      "cell_type": "code",
      "execution_count": null,
      "metadata": {
        "colab": {
          "base_uri": "https://localhost:8080/"
        },
        "id": "qx0SBjfGGjrV",
        "outputId": "f52b8b6f-67c3-4352-e101-e38fd26a8ffd"
      },
      "outputs": [
        {
          "name": "stdout",
          "output_type": "stream",
          "text": [
            "['iphone', 'samsung', 'oneplus', 'walton', 'redmi', 'sony', 'symphony']\n",
            "7\n",
            "<class 'list'>\n",
            "samsung\n",
            "symphony\n",
            "['oneplus', 'walton', 'redmi']\n",
            "['iphone', 'samsung', 'oneplus', 'walton']\n",
            "['oneplus', 'walton', 'redmi', 'sony', 'symphony']\n"
          ]
        }
      ],
      "source": [
        "thislist = [\"hp\", \"lenove\", \"serfece\", \"asus\", \"msi\", \"macbook\", \"gigabit\"]\n",
        "print(thislist)\n",
        "print(len(thislist))    #determining length\n",
        "print(type(thislist))   #determining type\n",
        "print(thislist[1])      #no.1 index\n",
        "print(thislist[-1])     #last index\n",
        "print(thislist[2:5])    #from index 2, before index 5.\n",
        "print(thislist[:4])     #from starting to before index 4\n",
        "print(thislist[2:])     #from index 2 to end"
      ]
    },
    {
      "cell_type": "code",
      "execution_count": null,
      "metadata": {
        "colab": {
          "base_uri": "https://localhost:8080/"
        },
        "id": "lh2NUWTwHnci",
        "outputId": "4b6d7556-a7b0-47c4-c245-45f44da50523"
      },
      "outputs": [
        {
          "name": "stdout",
          "output_type": "stream",
          "text": [
            "['phy', 'ict', 'math']\n",
            "['phy', 'ict', 'eng', 'math']\n",
            "['phy', 'ict', 'eng', 'math', 'ban']\n",
            "['ict', 'eng', 'math', 'ban']\n",
            "['ban', 'eng', 'ict', 'math']\n",
            "['ban', 'eng', 'ict', 'math']\n",
            "['a', 'b', 'c', 1, 2, 3]\n"
          ]
        }
      ],
      "source": [
        "thislist = [\"phy\", \"che\", \"math\"]\n",
        "thislist[1] = \"ict\"\n",
        "print(thislist)\n",
        "\n",
        "thislist.insert(2, \"eng\")\n",
        "print(thislist)\n",
        "\n",
        "thislist.append(\"ban\")\n",
        "print(thislist)\n",
        "\n",
        "thislist.remove(\"phy\")\n",
        "print(thislist)\n",
        "\n",
        "thislist.sort()\n",
        "print(thislist)\n",
        "\n",
        "mylist = thislist.copy()\n",
        "print(mylist)\n",
        "\n",
        "list1 = [\"a\", \"b\", \"c\"]\n",
        "list2 = [1, 2, 3]\n",
        "\n",
        "list3 = list1 + list2\n",
        "print(list3)"
      ]
    },
    {
      "cell_type": "code",
      "execution_count": null,
      "metadata": {
        "id": "RJbYQ5sSOyDK"
      },
      "outputs": [],
      "source": []
    },
    {
      "cell_type": "code",
      "execution_count": null,
      "metadata": {
        "id": "AKG0q-pfPIQ5"
      },
      "outputs": [],
      "source": []
    },
    {
      "cell_type": "markdown",
      "metadata": {
        "id": "YtU4LqaaJCOj"
      },
      "source": [
        "***slicing***"
      ]
    },
    {
      "cell_type": "code",
      "execution_count": null,
      "metadata": {
        "colab": {
          "base_uri": "https://localhost:8080/"
        },
        "id": "M0_oNAL1JIAf",
        "outputId": "4a9a394f-9cb1-457c-ed43-784b30a95386"
      },
      "outputs": [
        {
          "name": "stdout",
          "output_type": "stream",
          "text": [
            "('d', 'e')\n",
            "('a', 'd', 'g')\n"
          ]
        }
      ],
      "source": [
        "a = (\"a\", \"b\", \"c\", \"d\", \"e\", \"f\", \"g\", \"h\")\n",
        "x = slice(3, 5)\n",
        "print(a[x])\n",
        "\n",
        "x = slice(0, 8, 3)\n",
        "print(a[x])"
      ]
    },
    {
      "cell_type": "markdown",
      "metadata": {
        "id": "sJhmYQm1KyC2"
      },
      "source": [
        "***File***"
      ]
    },
    {
      "cell_type": "code",
      "execution_count": null,
      "metadata": {
        "colab": {
          "base_uri": "https://localhost:8080/"
        },
        "id": "_rna7ogfK1X5",
        "outputId": "da7868f6-ae15-4374-cb26-da6f4f273755"
      },
      "outputs": [
        {
          "name": "stdout",
          "output_type": "stream",
          "text": [
            "ffdgd\n",
            "hhgjj\n",
            "uiuiuoi\n",
            "ffdgd\n",
            "hhgjj\n",
            "uiuiuoiwrite\n"
          ]
        }
      ],
      "source": [
        "f= open(\"a.txt\")\n",
        "f = open(\"a.txt\", \"r\")\n",
        "print(f.read())\n",
        "\n",
        "\n"
      ]
    },
    {
      "cell_type": "code",
      "execution_count": null,
      "metadata": {
        "colab": {
          "base_uri": "https://localhost:8080/"
        },
        "id": "cTDzkWa_MTxH",
        "outputId": "082b0a69-b4e3-4018-ab2d-205626b868d2"
      },
      "outputs": [
        {
          "name": "stdout",
          "output_type": "stream",
          "text": [
            "ffdgd\n",
            "hhgjj\n",
            "aaaaaaawrite\n"
          ]
        }
      ],
      "source": [
        "f = open(\"a.txt\", \"a\")\n",
        "f.write(\"write\")\n",
        "f.close()\n",
        "\n",
        "\n",
        "f = open(\"a.txt\", \"r\")\n",
        "print(f.read())"
      ]
    }
  ],
  "metadata": {
    "colab": {
      "provenance": [],
      "include_colab_link": true
    },
    "kernelspec": {
      "display_name": "Python 3",
      "name": "python3"
    },
    "language_info": {
      "name": "python"
    }
  },
  "nbformat": 4,
  "nbformat_minor": 0
}