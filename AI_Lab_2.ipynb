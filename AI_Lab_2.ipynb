{
  "nbformat": 4,
  "nbformat_minor": 0,
  "metadata": {
    "colab": {
      "provenance": [],
      "include_colab_link": true
    },
    "kernelspec": {
      "name": "python3",
      "display_name": "Python 3"
    },
    "language_info": {
      "name": "python"
    }
  },
  "cells": [
    {
      "cell_type": "markdown",
      "metadata": {
        "id": "view-in-github",
        "colab_type": "text"
      },
      "source": [
        "<a href=\"https://colab.research.google.com/github/tanoy212/AI_Lab/blob/main/AI_Lab_2.ipynb\" target=\"_parent\"><img src=\"https://colab.research.google.com/assets/colab-badge.svg\" alt=\"Open In Colab\"/></a>"
      ]
    },
    {
      "cell_type": "markdown",
      "source": [
        "***array, Dimentions***"
      ],
      "metadata": {
        "id": "dxw7bxbBAfxk"
      }
    },
    {
      "cell_type": "code",
      "source": [
        "import numpy as np\n",
        "\n",
        "#printing 1D array\n",
        "arr = np.array([13, 25, 37, 44, 50])\n",
        "print(arr)\n",
        "\n",
        "#printing 2D array\n",
        "arr = np.array([[11, 22, 33], [44, 55, 66]])\n",
        "print(arr)\n",
        "\n",
        "#printing 3D array\n",
        "arr = np.array([[[1, 2, 3], [40, 50, 60]], [[1, 2, 3], [40, 50, 60]]]) #need '2' 2D array\n",
        "print(arr)\n",
        "\n",
        "#printing the dimentuins of array\n",
        "arr1 = np.array(99)\n",
        "arr2 = np.array([60,70,80])\n",
        "arr3 = np.array([[1, 2, 3], [4, 5, 6]])\n",
        "arr4 = np.array([[[1, 2, 3], [4, 5, 6]], [[1, 2, 3], [4, 5, 6]]])\n",
        "\n",
        "print(arr1.ndim)\n",
        "print(arr2.ndim)\n",
        "print(arr3.ndim)\n",
        "print(arr4.ndim)"
      ],
      "metadata": {
        "colab": {
          "base_uri": "https://localhost:8080/"
        },
        "id": "KC-_uDLVAfK8",
        "outputId": "f70459f7-cf1a-462b-bdd2-d260b2b7c958"
      },
      "execution_count": null,
      "outputs": [
        {
          "output_type": "stream",
          "name": "stdout",
          "text": [
            "[13 25 37 44 50]\n",
            "[[11 22 33]\n",
            " [44 55 66]]\n",
            "[[[ 1  2  3]\n",
            "  [40 50 60]]\n",
            "\n",
            " [[ 1  2  3]\n",
            "  [40 50 60]]]\n",
            "0\n",
            "1\n",
            "2\n",
            "3\n"
          ]
        }
      ]
    },
    {
      "cell_type": "markdown",
      "source": [
        "***indexing***"
      ],
      "metadata": {
        "id": "Lr5uIW5XCb0d"
      }
    },
    {
      "cell_type": "code",
      "source": [
        "import numpy as np\n",
        "\n",
        "arr = np.array([1, 2, 3, 4])\n",
        "print(arr[2] + arr[3])\n",
        "\n",
        "\n",
        "#3rd element of 1st row\n",
        "arr = np.array([[1,2,3,4,5], [6,7,8,9,10]])\n",
        "print('3rd element of 1st row: ', arr[0, 2])\n",
        "\n",
        "\n",
        "#last element of 2nd row\n",
        "arr = np.array([[1,2,3,4,5], [6,7,8,9,10]])\n",
        "print('last element on 2nd row: ', arr[1, 4])"
      ],
      "metadata": {
        "colab": {
          "base_uri": "https://localhost:8080/"
        },
        "id": "o13ogJ4vDed8",
        "outputId": "4f331538-9716-4274-9d3d-67fd5a362f18"
      },
      "execution_count": null,
      "outputs": [
        {
          "output_type": "stream",
          "name": "stdout",
          "text": [
            "7\n",
            "3rd element of 1st row:  3\n",
            "last element on 2nd row:  10\n"
          ]
        }
      ]
    },
    {
      "cell_type": "markdown",
      "source": [
        "*Slicing* 1D"
      ],
      "metadata": {
        "id": "6S-xJWW8EiI0"
      }
    },
    {
      "cell_type": "code",
      "source": [
        "#[start:end] , [start:end:step]  , step= difference\n",
        "#no start=0 index, no end= last index, no pass= 1 (by default)\n",
        "\n",
        "import numpy as np\n",
        "\n",
        "arr = np.array([1, 2, 3, 4, 5, 6, 7])\n",
        "\n",
        "print(arr[1:5])  #from index 1 to index 4\n",
        "\n",
        "print(arr[4:])  #from index 4 to last index\n",
        "\n",
        "print(arr[:4])  #from index 0 to index 3\n",
        "\n",
        "print(arr[-3:-1])\n",
        "\n",
        "print(arr[1:5:2]) #2 means index = (i= i+2)\n",
        "\n",
        "print(arr[::2]) #from first to last, index difference is 2"
      ],
      "metadata": {
        "colab": {
          "base_uri": "https://localhost:8080/"
        },
        "id": "Wyp2NApJEkZc",
        "outputId": "391c334a-910a-4658-a6cf-bb01e44572e7"
      },
      "execution_count": null,
      "outputs": [
        {
          "output_type": "stream",
          "name": "stdout",
          "text": [
            "[2 3 4 5]\n",
            "[5 6 7]\n",
            "[1 2 3 4]\n",
            "[5 6]\n",
            "[2 4]\n",
            "[1 3 5 7]\n"
          ]
        }
      ]
    },
    {
      "cell_type": "markdown",
      "source": [
        "Slicing ***2D***"
      ],
      "metadata": {
        "id": "zH38ULYqG07b"
      }
    },
    {
      "cell_type": "code",
      "source": [
        "# '0' means row1, '1' means row2\n",
        "\n",
        "import numpy as np\n",
        "\n",
        "arr = np.array([[1, 2, 3, 4, 5], [6, 7, 8, 9, 10]])\n",
        "print(arr[1, 1:4])\n",
        "\n",
        "#From both rows, return index 2\n",
        "arr = np.array([[1, 2, 3, 4, 5], [6, 7, 8, 9, 10]])\n",
        "print(arr[0:2, 2])\n",
        "\n",
        "#From both elements, slice index 1 to index 3, returns a 2-D array\n",
        "print(arr[0:2, 1:4])"
      ],
      "metadata": {
        "colab": {
          "base_uri": "https://localhost:8080/"
        },
        "id": "ZCinw9uSG4Qa",
        "outputId": "3583fa8e-8aa8-41f0-8448-95a91122d364"
      },
      "execution_count": null,
      "outputs": [
        {
          "output_type": "stream",
          "name": "stdout",
          "text": [
            "[7 8 9]\n",
            "[3 8]\n",
            "[[2 3 4]\n",
            " [7 8 9]]\n"
          ]
        }
      ]
    },
    {
      "cell_type": "markdown",
      "source": [
        "Copy, View"
      ],
      "metadata": {
        "id": "hX29L6C-H-qL"
      }
    },
    {
      "cell_type": "code",
      "source": [
        "import numpy as np\n",
        "\n",
        "#copy is a new array, the original array will not be changed\n",
        "arr = np.array([1, 2, 3, 4, 5])\n",
        "x = arr.copy()\n",
        "arr[0] = 42\n",
        "\n",
        "print(arr)\n",
        "print(x)\n",
        "\n",
        "\n",
        "#view will chang the main array too.\n",
        "\n",
        "arr = np.array([1, 2, 3, 4, 5])\n",
        "x = arr.view()\n",
        "arr[0] = 42\n",
        "\n",
        "print(arr)\n",
        "print(x)"
      ],
      "metadata": {
        "colab": {
          "base_uri": "https://localhost:8080/"
        },
        "id": "8s7fWre7IA1z",
        "outputId": "1a24f3d8-44c1-40fd-9393-4ab4fc373a8f"
      },
      "execution_count": null,
      "outputs": [
        {
          "output_type": "stream",
          "name": "stdout",
          "text": [
            "[42  2  3  4  5]\n",
            "[1 2 3 4 5]\n",
            "[42  2  3  4  5]\n",
            "[42  2  3  4  5]\n"
          ]
        }
      ]
    },
    {
      "cell_type": "markdown",
      "source": [
        "Shape, reshape"
      ],
      "metadata": {
        "id": "idmasuZ3JAOD"
      }
    },
    {
      "cell_type": "code",
      "source": [
        "import numpy as np\n",
        "#1D\n",
        "arr = np.array([1, 2, 3, 4, 5])\n",
        "print(arr.shape)\n",
        "\n",
        "#2D\n",
        "arr = np.array([[1, 2, 3, 4], [5, 6, 7, 8]])\n",
        "print(arr.shape)\n",
        "\n",
        "#1D to 2D convertr\n",
        "arr = np.array([1, 2, 3, 4, 5, 6, 7, 8, 9, 10, 11, 12])\n",
        "newarr = arr.reshape(3,4)\n",
        "print(newarr)\n",
        "\n",
        "#1D to 3D\n",
        "arr = np.array([1, 2, 3, 4, 5, 6, 7, 8, 9, 10, 11, 12])\n",
        "newarr = arr.reshape(2, 3, 2)\n",
        "print(newarr)"
      ],
      "metadata": {
        "colab": {
          "base_uri": "https://localhost:8080/"
        },
        "id": "N8jj6zLdJBYV",
        "outputId": "a9739246-b08d-4bc0-9864-18de4aefc2b2"
      },
      "execution_count": null,
      "outputs": [
        {
          "output_type": "stream",
          "name": "stdout",
          "text": [
            "(5,)\n",
            "(2, 4)\n",
            "[[ 1  2  3  4]\n",
            " [ 5  6  7  8]\n",
            " [ 9 10 11 12]]\n",
            "[[[ 1  2]\n",
            "  [ 3  4]\n",
            "  [ 5  6]]\n",
            "\n",
            " [[ 7  8]\n",
            "  [ 9 10]\n",
            "  [11 12]]]\n"
          ]
        }
      ]
    },
    {
      "cell_type": "markdown",
      "source": [
        "Itirating"
      ],
      "metadata": {
        "id": "JrjbMMrsKQCs"
      }
    },
    {
      "cell_type": "code",
      "source": [
        "import numpy as np\n",
        "\n",
        "arr = np.array([1, 2, 3])\n",
        "#print all the elements one by one,in a single column\n",
        "for x in arr:\n",
        "  print(x)\n",
        "\n",
        "\n",
        "#print array elements as it is\n",
        "arr = np.array([[1, 2, 3], [4, 5, 6]])\n",
        "for x in arr:\n",
        "  print(x)\n",
        "\n",
        "#print all the elements under a single column\n",
        "arr = np.array([[1, 2, 3], [4, 5, 6]])\n",
        "for x in arr:\n",
        "  for y in x:\n",
        "    print(y)"
      ],
      "metadata": {
        "colab": {
          "base_uri": "https://localhost:8080/"
        },
        "id": "2BjYydLyKe38",
        "outputId": "17709fc0-0001-4daf-d862-66663ca35404"
      },
      "execution_count": null,
      "outputs": [
        {
          "output_type": "stream",
          "name": "stdout",
          "text": [
            "1\n",
            "2\n",
            "3\n",
            "[1 2 3]\n",
            "[4 5 6]\n",
            "1\n",
            "2\n",
            "3\n",
            "4\n",
            "5\n",
            "6\n"
          ]
        }
      ]
    },
    {
      "cell_type": "markdown",
      "source": [
        "join array"
      ],
      "metadata": {
        "id": "Xsiqrbp5Lkkq"
      }
    },
    {
      "cell_type": "code",
      "source": [
        "#Axis 0 measn row , Axis 1 means column\n",
        "\n",
        "import numpy as np\n",
        "\n",
        "#by default same row te boshbe\n",
        "arr1 = np.array([1, 2, 3])\n",
        "arr2 = np.array([4, 5, 6])\n",
        "arr = np.concatenate((arr1, arr2))\n",
        "print(arr)\n",
        "\n",
        "\n",
        "#print 2nd array as a new row\n",
        "arr1 = np.array([[1, 2], [3, 4]])\n",
        "arr2 = np.array([[5, 6], [7, 8]])\n",
        "arr = np.concatenate((arr1, arr2), axis=1)\n",
        "\n",
        "print(arr)"
      ],
      "metadata": {
        "colab": {
          "base_uri": "https://localhost:8080/"
        },
        "id": "IKzMBKbMLmas",
        "outputId": "74b4e578-1c80-426b-b85e-e4d206cac758"
      },
      "execution_count": null,
      "outputs": [
        {
          "output_type": "stream",
          "name": "stdout",
          "text": [
            "[1 2 3 4 5 6]\n",
            "[[1 2 5 6]\n",
            " [3 4 7 8]]\n"
          ]
        }
      ]
    },
    {
      "cell_type": "markdown",
      "source": [
        "sorting"
      ],
      "metadata": {
        "id": "hKrUnX1MM53S"
      }
    },
    {
      "cell_type": "code",
      "source": [
        "import numpy as np\n",
        "\n",
        "arr = np.array([3, 2, 0, 1])\n",
        "print(np.sort(arr))\n",
        "\n",
        "\n",
        "arr = np.array(['iphone', 'xiaomi', 'nokia'])\n",
        "print(np.sort(arr))\n",
        "\n",
        "\n",
        "arr = np.array([[3, 2, 4], [5, 0, 1]])\n",
        "print(np.sort(arr))"
      ],
      "metadata": {
        "colab": {
          "base_uri": "https://localhost:8080/"
        },
        "id": "f_RhQuTjM8qc",
        "outputId": "f2699234-e35a-4737-c5ea-883a47d01b17"
      },
      "execution_count": null,
      "outputs": [
        {
          "output_type": "stream",
          "name": "stdout",
          "text": [
            "[0 1 2 3]\n",
            "['iphone' 'nokia' 'xiaomi']\n",
            "[[2 3 4]\n",
            " [0 1 5]]\n"
          ]
        }
      ]
    }
  ]
}